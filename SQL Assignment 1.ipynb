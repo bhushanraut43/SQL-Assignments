{
 "cells": [
  {
   "cell_type": "markdown",
   "id": "402e3b04",
   "metadata": {},
   "source": [
    "Q1. Write an SQL query to fetch “FIRST_NAME” from Worker table using the alias\n",
    "name as &lt;WORKER_NAME&gt;."
   ]
  },
  {
   "cell_type": "code",
   "execution_count": null,
   "id": "3b2c6671",
   "metadata": {},
   "outputs": [],
   "source": [
    "Select FIRST_NAME AS WORKER_NAME from Worker;"
   ]
  },
  {
   "cell_type": "markdown",
   "id": "83a9aaa8",
   "metadata": {},
   "source": [
    "Q2. Write an SQL query to fetch unique values of DEPARTMENT from Worker table."
   ]
  },
  {
   "cell_type": "code",
   "execution_count": null,
   "id": "d30a27c9",
   "metadata": {},
   "outputs": [],
   "source": [
    "Select distinct DEPARTMENT from Worker;"
   ]
  },
  {
   "cell_type": "markdown",
   "id": "28182e75",
   "metadata": {},
   "source": [
    "Q3. Write an SQL query to show the last 5 record from a table."
   ]
  },
  {
   "cell_type": "code",
   "execution_count": null,
   "id": "d8b21e3a",
   "metadata": {},
   "outputs": [],
   "source": [
    "Select top 5 * from worker_data2 order by empid desc"
   ]
  },
  {
   "cell_type": "code",
   "execution_count": null,
   "id": "df4c5fe5",
   "metadata": {},
   "outputs": [],
   "source": []
  }
 ],
 "metadata": {
  "kernelspec": {
   "display_name": "Python 3",
   "language": "python",
   "name": "python3"
  },
  "language_info": {
   "codemirror_mode": {
    "name": "ipython",
    "version": 3
   },
   "file_extension": ".py",
   "mimetype": "text/x-python",
   "name": "python",
   "nbconvert_exporter": "python",
   "pygments_lexer": "ipython3",
   "version": "3.8.8"
  }
 },
 "nbformat": 4,
 "nbformat_minor": 5
}
