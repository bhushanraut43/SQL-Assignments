{
 "cells": [
  {
   "cell_type": "markdown",
   "id": "60817e16",
   "metadata": {},
   "source": [
    "Q1. Write an SQL query to determine the 5th highest salary without using TOP or limit\n",
    "method."
   ]
  },
  {
   "cell_type": "code",
   "execution_count": null,
   "id": "8ccb92d2",
   "metadata": {},
   "outputs": [],
   "source": [
    "SELECT Salary\n",
    "FROM Worker W1\n",
    "WHERE 4 = (\n",
    " SELECT COUNT( DISTINCT ( W2.Salary ) )\n",
    " FROM Worker W2\n",
    " WHERE W2.Salary >= W1.Salary\n",
    " );"
   ]
  },
  {
   "cell_type": "code",
   "execution_count": null,
   "id": "bafb0b7c",
   "metadata": {},
   "outputs": [],
   "source": [
    "Q2. Write an SQL query to fetch the list of employees with the same salary."
   ]
  },
  {
   "cell_type": "code",
   "execution_count": null,
   "id": "a5945782",
   "metadata": {},
   "outputs": [],
   "source": [
    "Select distinct W.WORKER_ID, W.FIRST_NAME, W.Salary \n",
    "from Worker W, Worker W1 \n",
    "where W.Salary = W1.Salary \n",
    "and W.WORKER_ID != W1.WORKER_ID;"
   ]
  }
 ],
 "metadata": {
  "kernelspec": {
   "display_name": "Python 3",
   "language": "python",
   "name": "python3"
  },
  "language_info": {
   "codemirror_mode": {
    "name": "ipython",
    "version": 3
   },
   "file_extension": ".py",
   "mimetype": "text/x-python",
   "name": "python",
   "nbconvert_exporter": "python",
   "pygments_lexer": "ipython3",
   "version": "3.8.8"
  }
 },
 "nbformat": 4,
 "nbformat_minor": 5
}
