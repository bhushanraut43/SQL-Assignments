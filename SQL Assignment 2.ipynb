{
 "cells": [
  {
   "cell_type": "markdown",
   "id": "a11e21e5",
   "metadata": {},
   "source": [
    "Q1. Write an SQL query to print the first three characters of  FIRST_NAME from Worker\n",
    "table."
   ]
  },
  {
   "cell_type": "code",
   "execution_count": null,
   "id": "7b3cb0dc",
   "metadata": {},
   "outputs": [],
   "source": [
    "Select substring(FIRST_NAME,1,3) from Worker;"
   ]
  },
  {
   "cell_type": "markdown",
   "id": "191344d7",
   "metadata": {},
   "source": [
    "Q2. Write an SQL query to find the position of the alphabet (‘a’) in the first name\n",
    "column ‘Amitabh’ from Worker table."
   ]
  },
  {
   "cell_type": "code",
   "execution_count": null,
   "id": "a4dbeaae",
   "metadata": {},
   "outputs": [],
   "source": [
    "Select INSTR(FIRST_NAME, BINARY'a') from Worker where FIRST_NAME = 'Amitabh';"
   ]
  },
  {
   "cell_type": "markdown",
   "id": "e835add0",
   "metadata": {},
   "source": [
    "Q3. Write an SQL query to print the name of employees having the highest salary in each\n",
    "department."
   ]
  },
  {
   "cell_type": "code",
   "execution_count": null,
   "id": "c4bfd565",
   "metadata": {},
   "outputs": [],
   "source": [
    "SELECT t.DEPARTMENT,t.FIRST_NAME,t.Salary from(SELECT max(Salary) as TotalSalary,DEPARTMENT from Worker group by DEPARTMENT) as TempNew \n",
    "Inner Join Worker t on TempNew.DEPARTMENT=t.DEPARTMENT \n",
    " and TempNew.TotalSalary=t.Salary;"
   ]
  }
 ],
 "metadata": {
  "kernelspec": {
   "display_name": "Python 3",
   "language": "python",
   "name": "python3"
  },
  "language_info": {
   "codemirror_mode": {
    "name": "ipython",
    "version": 3
   },
   "file_extension": ".py",
   "mimetype": "text/x-python",
   "name": "python",
   "nbconvert_exporter": "python",
   "pygments_lexer": "ipython3",
   "version": "3.8.8"
  }
 },
 "nbformat": 4,
 "nbformat_minor": 5
}
