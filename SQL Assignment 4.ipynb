{
 "cells": [
  {
   "cell_type": "markdown",
   "id": "c6c1cef7",
   "metadata": {},
   "source": [
    "Q1. Write an SQL query to print the FIRST_NAME from Worker table after replacing ‘a’\n",
    "with ‘A’."
   ]
  },
  {
   "cell_type": "code",
   "execution_count": null,
   "id": "b2b39e3d",
   "metadata": {},
   "outputs": [],
   "source": [
    "Select REPLACE(FIRST_NAME,'a','A') from Worker;"
   ]
  },
  {
   "cell_type": "markdown",
   "id": "c6ce59c2",
   "metadata": {},
   "source": [
    "Q2. Write an SQL query to print all Worker details from the Worker table order by\n",
    "FIRST_NAME Ascending and DEPARTMENT Descending."
   ]
  },
  {
   "cell_type": "code",
   "execution_count": null,
   "id": "33ed483f",
   "metadata": {},
   "outputs": [],
   "source": [
    "Select * from Worker order by FIRST_NAME asc,DEPARTMENT desc;"
   ]
  },
  {
   "cell_type": "markdown",
   "id": "a8d56b9f",
   "metadata": {},
   "source": [
    "Q3. Write an SQL query to fetch the names of workers who earn the highest salary."
   ]
  },
  {
   "cell_type": "code",
   "execution_count": null,
   "id": "37ce43b0",
   "metadata": {},
   "outputs": [],
   "source": [
    "SELECT FIRST_NAME, SALARY from Worker WHERE SALARY=(SELECT max(SALARY) from Worker);"
   ]
  }
 ],
 "metadata": {
  "kernelspec": {
   "display_name": "Python 3",
   "language": "python",
   "name": "python3"
  },
  "language_info": {
   "codemirror_mode": {
    "name": "ipython",
    "version": 3
   },
   "file_extension": ".py",
   "mimetype": "text/x-python",
   "name": "python",
   "nbconvert_exporter": "python",
   "pygments_lexer": "ipython3",
   "version": "3.8.8"
  }
 },
 "nbformat": 4,
 "nbformat_minor": 5
}
