{
 "cells": [
  {
   "cell_type": "markdown",
   "id": "9e7510fe",
   "metadata": {},
   "source": [
    "Q1. Write an SQL query to print details of workers excluding first names, “Vipul” and\n",
    "“Satish” from Worker table."
   ]
  },
  {
   "cell_type": "code",
   "execution_count": null,
   "id": "e364200a",
   "metadata": {},
   "outputs": [],
   "source": [
    "Select * from Worker where FIRST_NAME not in ('Vipul','Satish');"
   ]
  },
  {
   "cell_type": "markdown",
   "id": "70347080",
   "metadata": {},
   "source": [
    "Q2. Write an SQL query to print details of the Workers whose FIRST_NAME ends with\n",
    "‘h’ and contains six alphabets."
   ]
  },
  {
   "cell_type": "code",
   "execution_count": null,
   "id": "2f94dddf",
   "metadata": {},
   "outputs": [],
   "source": [
    "elect * from Worker where FIRST_NAME like '_____h';"
   ]
  },
  {
   "cell_type": "markdown",
   "id": "c0d2f6aa",
   "metadata": {},
   "source": [
    "Q3. Write a query to validate Email of Employee."
   ]
  },
  {
   "cell_type": "code",
   "execution_count": null,
   "id": "93f9165c",
   "metadata": {},
   "outputs": [],
   "source": [
    "Select * from worker_data2\n",
    "where email like '_%@_%._%'"
   ]
  }
 ],
 "metadata": {
  "kernelspec": {
   "display_name": "Python 3",
   "language": "python",
   "name": "python3"
  },
  "language_info": {
   "codemirror_mode": {
    "name": "ipython",
    "version": 3
   },
   "file_extension": ".py",
   "mimetype": "text/x-python",
   "name": "python",
   "nbconvert_exporter": "python",
   "pygments_lexer": "ipython3",
   "version": "3.8.8"
  }
 },
 "nbformat": 4,
 "nbformat_minor": 5
}
