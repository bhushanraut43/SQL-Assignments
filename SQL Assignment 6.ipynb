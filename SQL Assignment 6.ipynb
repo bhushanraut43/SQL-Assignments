{
 "cells": [
  {
   "cell_type": "markdown",
   "id": "c2a51aa4",
   "metadata": {},
   "source": [
    "Q1. Write an SQL query to print details of the Workers who have joined in Feb’2014."
   ]
  },
  {
   "cell_type": "code",
   "execution_count": null,
   "id": "ec6a466c",
   "metadata": {},
   "outputs": [],
   "source": [
    "Select * from Worker where year(JOINING_DATE) = 2014 and month(JOINING_DATE) = 2;"
   ]
  },
  {
   "cell_type": "markdown",
   "id": "ccf5bf94",
   "metadata": {},
   "source": [
    "Q2. Write an SQL query to fetch duplicate records having matching data in some fields of\n",
    "a table."
   ]
  },
  {
   "cell_type": "code",
   "execution_count": null,
   "id": "0498f55c",
   "metadata": {},
   "outputs": [],
   "source": [
    "SELECT WORKER_TITLE, AFFECTED_FROM, COUNT(*)\n",
    "FROM Title\n",
    "GROUP BY WORKER_TITLE, AFFECTED_FROM\n",
    "HAVING COUNT(*) > 1;"
   ]
  },
  {
   "cell_type": "markdown",
   "id": "52ed82b9",
   "metadata": {},
   "source": [
    "Q3. How to remove duplicate rows from Employees table."
   ]
  },
  {
   "cell_type": "code",
   "execution_count": null,
   "id": "d1f82cae",
   "metadata": {},
   "outputs": [],
   "source": [
    "select* from employees_table \n",
    "with employeeCTE AS \n",
    "select *, ROW_NUMBER () over(partition by empid order by empid) as Rownumber \n",
    "from employees_table \n",
    "Delete from employeeCTE where Rownumber>1 \n",
    "select * from employees_table"
   ]
  }
 ],
 "metadata": {
  "kernelspec": {
   "display_name": "Python 3",
   "language": "python",
   "name": "python3"
  },
  "language_info": {
   "codemirror_mode": {
    "name": "ipython",
    "version": 3
   },
   "file_extension": ".py",
   "mimetype": "text/x-python",
   "name": "python",
   "nbconvert_exporter": "python",
   "pygments_lexer": "ipython3",
   "version": "3.8.8"
  }
 },
 "nbformat": 4,
 "nbformat_minor": 5
}
