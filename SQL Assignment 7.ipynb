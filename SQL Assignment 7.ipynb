{
 "cells": [
  {
   "cell_type": "markdown",
   "id": "b7fbe793",
   "metadata": {},
   "source": [
    "Q1. Write an SQL query to show only odd rows from a table."
   ]
  },
  {
   "cell_type": "code",
   "execution_count": null,
   "id": "4f78fdf5",
   "metadata": {},
   "outputs": [],
   "source": [
    "SELECT * FROM Worker WHERE MOD (WORKER_ID, 2) <> 0;"
   ]
  },
  {
   "cell_type": "markdown",
   "id": "dc562bdb",
   "metadata": {},
   "source": [
    "Q2. Write an SQL query to clone a new table from another table."
   ]
  },
  {
   "cell_type": "code",
   "execution_count": null,
   "id": "2b03c92f",
   "metadata": {},
   "outputs": [],
   "source": [
    "SELECT * INTO WorkerClone FROM Worker;"
   ]
  }
 ],
 "metadata": {
  "kernelspec": {
   "display_name": "Python 3",
   "language": "python",
   "name": "python3"
  },
  "language_info": {
   "codemirror_mode": {
    "name": "ipython",
    "version": 3
   },
   "file_extension": ".py",
   "mimetype": "text/x-python",
   "name": "python",
   "nbconvert_exporter": "python",
   "pygments_lexer": "ipython3",
   "version": "3.8.8"
  }
 },
 "nbformat": 4,
 "nbformat_minor": 5
}
