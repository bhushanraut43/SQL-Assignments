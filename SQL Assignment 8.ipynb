{
 "cells": [
  {
   "cell_type": "markdown",
   "id": "2c8a64ce",
   "metadata": {},
   "source": [
    "Q1. Write an SQL query to fetch intersecting records of two tables."
   ]
  },
  {
   "cell_type": "code",
   "execution_count": null,
   "id": "e7f1d31b",
   "metadata": {},
   "outputs": [],
   "source": [
    "(SELECT * FROM Worker)\n",
    "INTERSECT\n",
    "(SELECT * FROM WorkerClone);"
   ]
  },
  {
   "cell_type": "code",
   "execution_count": null,
   "id": "7cb284ee",
   "metadata": {},
   "outputs": [],
   "source": [
    "Q2. Write an SQL query to show records from one table that another table does not\n",
    "have."
   ]
  },
  {
   "cell_type": "code",
   "execution_count": null,
   "id": "4067ed3f",
   "metadata": {},
   "outputs": [],
   "source": [
    "SELECT * FROM Worker\n",
    "MINUS\n",
    "SELECT * FROM Title;"
   ]
  }
 ],
 "metadata": {
  "kernelspec": {
   "display_name": "Python 3",
   "language": "python",
   "name": "python3"
  },
  "language_info": {
   "codemirror_mode": {
    "name": "ipython",
    "version": 3
   },
   "file_extension": ".py",
   "mimetype": "text/x-python",
   "name": "python",
   "nbconvert_exporter": "python",
   "pygments_lexer": "ipython3",
   "version": "3.8.8"
  }
 },
 "nbformat": 4,
 "nbformat_minor": 5
}
