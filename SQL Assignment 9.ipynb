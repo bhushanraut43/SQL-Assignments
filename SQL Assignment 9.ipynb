{
 "cells": [
  {
   "cell_type": "markdown",
   "id": "c4cfdf1c",
   "metadata": {},
   "source": [
    "Q1. Write an SQL query to show the top n (say 10) records of a table."
   ]
  },
  {
   "cell_type": "code",
   "execution_count": null,
   "id": "aa6432e9",
   "metadata": {},
   "outputs": [],
   "source": [
    "SELECT * FROM Worker ORDER BY Salary DESC LIMIT 10;"
   ]
  },
  {
   "cell_type": "markdown",
   "id": "5cbc36bf",
   "metadata": {},
   "source": [
    "Q2. Write an SQL query to determine the nth (say n=5) highest salary from a table."
   ]
  },
  {
   "cell_type": "code",
   "execution_count": null,
   "id": "af957679",
   "metadata": {},
   "outputs": [],
   "source": [
    "SELECT Salary FROM Worker ORDER BY Salary DESC LIMIT n-1,1;"
   ]
  }
 ],
 "metadata": {
  "kernelspec": {
   "display_name": "Python 3",
   "language": "python",
   "name": "python3"
  },
  "language_info": {
   "codemirror_mode": {
    "name": "ipython",
    "version": 3
   },
   "file_extension": ".py",
   "mimetype": "text/x-python",
   "name": "python",
   "nbconvert_exporter": "python",
   "pygments_lexer": "ipython3",
   "version": "3.8.8"
  }
 },
 "nbformat": 4,
 "nbformat_minor": 5
}
